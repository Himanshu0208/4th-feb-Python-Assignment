{
 "cells": [
  {
   "cell_type": "markdown",
   "id": "62d5cd07-af0c-4fb4-b7b4-12e708bc3214",
   "metadata": {},
   "source": [
    "# Ques 1"
   ]
  },
  {
   "cell_type": "code",
   "execution_count": 1,
   "id": "f970a5a2-6ad4-46c2-89a2-a27aeb88af04",
   "metadata": {},
   "outputs": [
    {
     "name": "stdout",
     "output_type": "stream",
     "text": [
      "old list is [('Sachin Tendulkar', 34357), ('Ricky Ponting', 27483), ('Jack Kallis', 25534), ('Virat Kohli', 24936)]\n",
      "\n",
      "sorted list is  [('Virat Kohli', 24936), ('Jack Kallis', 25534), ('Ricky Ponting', 27483), ('Sachin Tendulkar', 34357)]\n"
     ]
    }
   ],
   "source": [
    "l = [('Sachin Tendulkar', 34357), ('Ricky Ponting', 27483), ('Jack Kallis', 25534), ('Virat Kohli', 24936)]\n",
    "print('old list is' , l , end='\\n\\n')\n",
    "l.sort(key = lambda x: x[1])\n",
    "print('sorted list is ' , l)"
   ]
  },
  {
   "cell_type": "markdown",
   "id": "4dce704e-b91f-4b1d-8a4c-4cf9f5cafe85",
   "metadata": {},
   "source": [
    "# Ques 2"
   ]
  },
  {
   "cell_type": "code",
   "execution_count": 5,
   "id": "e87eb687-0beb-4f2e-93e2-8c22d0a3f6d5",
   "metadata": {},
   "outputs": [
    {
     "name": "stdout",
     "output_type": "stream",
     "text": [
      "Inputed list = [1, 2, 3, 4, 5, 6, 7, 8, 9, 10]\n",
      "Squared list = [1, 4, 9, 16, 25, 36, 49, 64, 81, 100]\n"
     ]
    }
   ],
   "source": [
    "l2 = [1, 2, 3, 4, 5, 6, 7, 8, 9, 10]\n",
    "ans = list(map(lambda x: x ** 2 , l2))\n",
    "print('Inputed list =' , l2)\n",
    "print('Squared list =' , ans)"
   ]
  },
  {
   "cell_type": "markdown",
   "id": "1210a65e-d55f-4cd5-a432-28e9adf8f55d",
   "metadata": {},
   "source": [
    "# Ques 3"
   ]
  },
  {
   "cell_type": "code",
   "execution_count": 6,
   "id": "3e52c00d-394b-44d5-b8ae-e1664b5e151e",
   "metadata": {},
   "outputs": [
    {
     "name": "stdout",
     "output_type": "stream",
     "text": [
      "Inputed list = [1, 2, 3, 4, 5, 6, 7, 8, 9, 10]\n",
      "Output tuple = ('1', '2', '3', '4', '5', '6', '7', '8', '9', '10')\n"
     ]
    }
   ],
   "source": [
    "l3 = [1, 2, 3, 4, 5, 6, 7, 8, 9, 10]\n",
    "ans = tuple(map(lambda x : str(x) , l2))\n",
    "print('Inputed list =' , l2)\n",
    "print('Output tuple =' , ans)"
   ]
  },
  {
   "cell_type": "markdown",
   "id": "59f89a20-b2d1-4e2d-932c-854f96c7c373",
   "metadata": {},
   "source": [
    "# Ques 4"
   ]
  },
  {
   "cell_type": "code",
   "execution_count": 9,
   "id": "b5220519-7bb7-4034-a08d-ada4ca73b7e9",
   "metadata": {},
   "outputs": [
    {
     "name": "stdin",
     "output_type": "stream",
     "text": [
      "Enter the starting point 1\n",
      "Enter the ending point 25\n"
     ]
    },
    {
     "name": "stdout",
     "output_type": "stream",
     "text": [
      "The starting point is = 1\n",
      "The ending point is = 25\n",
      "The multiplication of numbers from 1 to 25 is = 15511210043330985984000000\n"
     ]
    }
   ],
   "source": [
    "from functools import reduce\n",
    "a = int(input('Enter the starting point'))\n",
    "b = int(input('Enter the ending point'))\n",
    "\n",
    "print('The starting point is =' , a)\n",
    "print('The ending point is =' , b)\n",
    "l4 = list(range(a,b+1))\n",
    "\n",
    "ans = reduce(lambda x , y : x * y , l4)\n",
    "print('The multiplication of numbers from' , a , 'to' , b , 'is =' , ans)"
   ]
  },
  {
   "cell_type": "markdown",
   "id": "f92c9453-2b1f-4681-994a-74aa770c93be",
   "metadata": {},
   "source": [
    "# Ques 5"
   ]
  },
  {
   "cell_type": "code",
   "execution_count": 11,
   "id": "5e1f51be-8bce-4ac0-a89d-8ee17ed14f9b",
   "metadata": {},
   "outputs": [
    {
     "name": "stdout",
     "output_type": "stream",
     "text": [
      "Inputed list = [2, 3, 6, 9, 27, 60, 90, 120, 55, 46]\n",
      "Number divisible by 2 and 3 from the list are = [6, 60, 90, 120]\n"
     ]
    }
   ],
   "source": [
    "l5 = [2, 3, 6, 9, 27, 60, 90, 120, 55, 46]\n",
    "ans = list(filter(lambda x : x % 2 == 0 and x % 3 == 0, l5))\n",
    "print('Inputed list =' , l5)\n",
    "print('Number divisible by 2 and 3 from the list are =' , ans)"
   ]
  },
  {
   "cell_type": "markdown",
   "id": "8f435acf-dcd5-488b-99ae-953de86dee37",
   "metadata": {},
   "source": [
    "# Ques 6"
   ]
  },
  {
   "cell_type": "code",
   "execution_count": null,
   "id": "a04723a1-d72a-4737-af8d-f906bd1cf3c1",
   "metadata": {},
   "outputs": [],
   "source": [
    "l6 = ['python', 'php', 'aba', 'radar', 'level']\n",
    "ans = list(filter(lambda x : x, l5))\n",
    "print('Inputed list =' , l5)\n",
    "print('Number divisible by 2 and 3 from the list are =' , ans)"
   ]
  }
 ],
 "metadata": {
  "kernelspec": {
   "display_name": "Python 3 (ipykernel)",
   "language": "python",
   "name": "python3"
  },
  "language_info": {
   "codemirror_mode": {
    "name": "ipython",
    "version": 3
   },
   "file_extension": ".py",
   "mimetype": "text/x-python",
   "name": "python",
   "nbconvert_exporter": "python",
   "pygments_lexer": "ipython3",
   "version": "3.10.8"
  }
 },
 "nbformat": 4,
 "nbformat_minor": 5
}
